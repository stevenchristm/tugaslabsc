{
  "nbformat": 4,
  "nbformat_minor": 0,
  "metadata": {
    "colab": {
      "provenance": [],
      "authorship_tag": "ABX9TyO5jDpucIAZtV2ClhmvhETr",
      "include_colab_link": true
    },
    "kernelspec": {
      "name": "python3",
      "display_name": "Python 3"
    },
    "language_info": {
      "name": "python"
    }
  },
  "cells": [
    {
      "cell_type": "markdown",
      "metadata": {
        "id": "view-in-github",
        "colab_type": "text"
      },
      "source": [
        "<a href=\"https://colab.research.google.com/github/stevenchristm/tugaslabsc/blob/main/modulsc4.ipynb\" target=\"_parent\"><img src=\"https://colab.research.google.com/assets/colab-badge.svg\" alt=\"Open In Colab\"/></a>"
      ]
    },
    {
      "cell_type": "code",
      "execution_count": 22,
      "metadata": {
        "id": "h06j0NzA1-1q"
      },
      "outputs": [],
      "source": [
        "import numpy as np\n",
        "\n",
        "def my_bisection(f, a, b, tol):\n",
        "    if np.sign(f(a)) == np.sign(f(b)):\n",
        "        raise Exception(\"Interval tidak mengurung akar\")\n",
        "\n",
        "    m = (a + b) / 2\n",
        "    if np.abs(f(m)) < tol:\n",
        "        return m\n",
        "    elif np.sign(f(a)) == np.sign(f(m)):\n",
        "        return my_bisection(f, m, b, tol)\n",
        "    else:\n",
        "        return my_bisection(f, a, m, tol)"
      ]
    },
    {
      "cell_type": "code",
      "source": [
        "f_bisection = lambda x: np.sin(x) - x\n",
        "\n",
        "a = 0\n",
        "b = 1\n",
        "tol_bisect = 0.01\n",
        "\n",
        "root_bisect = my_bisection(f_bisection, 0, 1, 0.01)\n",
        "\n",
        "print(\"Hasil Bisection:\")\n",
        "print(\"Akar =\", root_bisect)\n",
        "print(\"f(akar) =\", f_bisection(root_bisect))"
      ],
      "metadata": {
        "colab": {
          "base_uri": "https://localhost:8080/"
        },
        "id": "fxfrU8hM3h8j",
        "outputId": "bbb1ec59-e5d6-478a-8db4-2226326538ef"
      },
      "execution_count": 23,
      "outputs": [
        {
          "output_type": "stream",
          "name": "stdout",
          "text": [
            "Hasil Bisection:\n",
            "Akar = 0.25\n",
            "f(akar) = -0.002596040745477063\n"
          ]
        }
      ]
    },
    {
      "cell_type": "code",
      "source": [
        "# Newton-Raphson\n",
        "\n",
        "import numpy as np\n",
        "\n",
        "def my_newton(f, df, x0, tol):\n",
        "    if abs(f(x0)) < tol:\n",
        "        return x0\n",
        "    else:\n",
        "        return my_newton(f, df, x0 - f(x0)/df(x0), tol)"
      ],
      "metadata": {
        "id": "sAD2XIWl5RzJ"
      },
      "execution_count": 24,
      "outputs": []
    },
    {
      "cell_type": "code",
      "source": [
        "f = lambda x: x**3 - 3*x**2 + 2*x\n",
        "f_prime = lambda x: 3*x**2 - 6*x + 2\n",
        "newton_raphson = 1.5 - (f(1.5))/(f_prime(1.5))\n",
        "\n",
        "print(\"Newton-Raphson =\", newton_raphson)\n",
        "print(\"sqrt(2) =\", np.sqrt(2))"
      ],
      "metadata": {
        "colab": {
          "base_uri": "https://localhost:8080/"
        },
        "id": "6zb0cPVh9SD2",
        "outputId": "0feb8e8d-7423-465d-d6ec-4e3da7fa125a"
      },
      "execution_count": 25,
      "outputs": [
        {
          "output_type": "stream",
          "name": "stdout",
          "text": [
            "Newton-Raphson = 0.0\n",
            "sqrt(2) = 1.4142135623730951\n"
          ]
        }
      ]
    },
    {
      "cell_type": "code",
      "source": [
        "estimate = my_newton(f, f_prime, 1.5, 1e-6)\n",
        "print(\"Estimate =\", estimate)\n",
        "print(\"sqrt(2) =\", np.sqrt(2))"
      ],
      "metadata": {
        "colab": {
          "base_uri": "https://localhost:8080/"
        },
        "id": "5wd7Ei6A5eWj",
        "outputId": "c72977ef-e584-4990-d353-88d23da4950c"
      },
      "execution_count": 27,
      "outputs": [
        {
          "output_type": "stream",
          "name": "stdout",
          "text": [
            "Estimate = 0.0\n",
            "sqrt(2) = 1.4142135623730951\n"
          ]
        }
      ]
    }
  ]
}