{
  "nbformat": 4,
  "nbformat_minor": 0,
  "metadata": {
    "colab": {
      "provenance": [],
      "authorship_tag": "ABX9TyNca91bXQMYdEgeQSI9Y1T8",
      "include_colab_link": true
    },
    "kernelspec": {
      "name": "python3",
      "display_name": "Python 3"
    },
    "language_info": {
      "name": "python"
    }
  },
  "cells": [
    {
      "cell_type": "markdown",
      "metadata": {
        "id": "view-in-github",
        "colab_type": "text"
      },
      "source": [
        "<a href=\"https://colab.research.google.com/github/stevenchristm/tugaslabsc/blob/main/lab5.ipynb\" target=\"_parent\"><img src=\"https://colab.research.google.com/assets/colab-badge.svg\" alt=\"Open In Colab\"/></a>"
      ]
    },
    {
      "cell_type": "code",
      "source": [
        "import numpy as np\n",
        "\n",
        "a = 0\n",
        "b = np.pi\n",
        "n = 11\n",
        "h = (b-a)/(n-1)\n",
        "x = np.linspace(a, b, n)\n",
        "f = np.sin(x)\n",
        "\n",
        "I_riemannL = h*sum(f[:n-1])\n",
        "err_riemannL = 2-I_riemannL\n",
        "\n",
        "I_riemannR = h*sum(f[1::])\n",
        "err_riemannR = 2-I_riemannR\n",
        "\n",
        "I_mid = h*sum(np.sin((x[:n-1]+x[1:])/2))\n",
        "err_mid = 2-I_mid\n",
        "\n",
        "print(I_riemannL)\n",
        "print(err_riemannL)\n",
        "\n",
        "print(I_riemannR)\n",
        "print(err_riemannR)\n",
        "\n",
        "print(I_mid)\n",
        "print(err_mid)"
      ],
      "metadata": {
        "colab": {
          "base_uri": "https://localhost:8080/"
        },
        "id": "jvDzNZrS2RHl",
        "outputId": "0059d289-4321-45d8-8744-a4c15037c537"
      },
      "execution_count": 3,
      "outputs": [
        {
          "output_type": "stream",
          "name": "stdout",
          "text": [
            "1.9835235375094546\n",
            "0.01647646249054535\n",
            "1.9835235375094546\n",
            "0.01647646249054535\n",
            "2.0082484079079745\n",
            "-0.008248407907974542\n"
          ]
        }
      ]
    },
    {
      "cell_type": "code",
      "source": [
        "import numpy as np\n",
        "from scipy.integrate import trapezoid\n",
        "\n",
        "a=0\n",
        "b=np.pi\n",
        "n=11\n",
        "h=(b-a)/(n-1)\n",
        "x=np.linspace(a, b, n)\n",
        "f=np.sin(x)\n",
        "\n",
        "I_trapz = trapezoid(f, x)\n",
        "I_trap = (h/2)*(f[0]+2*sum(f[1:n-1])+f[n-1])\n",
        "\n",
        "print(I_trapz)\n",
        "print(I_trap)"
      ],
      "metadata": {
        "colab": {
          "base_uri": "https://localhost:8080/"
        },
        "id": "WJqCc9mv3xXA",
        "outputId": "5fb26836-c66b-4d17-b2e7-6d5a51b2a5a0"
      },
      "execution_count": 13,
      "outputs": [
        {
          "output_type": "stream",
          "name": "stdout",
          "text": [
            "1.9835235375094544\n",
            "1.9835235375094546\n"
          ]
        }
      ]
    },
    {
      "cell_type": "code",
      "source": [
        "from scipy.integrate import quad\n",
        "\n",
        "I_quad, est_err_quad=\\\n",
        "quad(np.sin, 0, np.pi)\n",
        "print(I_quad)\n",
        "err_quad=2-I_quad\n",
        "print(est_err_quad)"
      ],
      "metadata": {
        "colab": {
          "base_uri": "https://localhost:8080/"
        },
        "id": "E-ZI-uhv8D-u",
        "outputId": "be90d0c9-e495-41f8-d942-4e2664a73553"
      },
      "execution_count": 14,
      "outputs": [
        {
          "output_type": "stream",
          "name": "stdout",
          "text": [
            "2.0\n",
            "2.220446049250313e-14\n"
          ]
        }
      ]
    }
  ]
}