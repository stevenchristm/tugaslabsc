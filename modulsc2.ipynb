{
  "nbformat": 4,
  "nbformat_minor": 0,
  "metadata": {
    "colab": {
      "provenance": [],
      "authorship_tag": "ABX9TyNBn70dRJyrAVkQ/oIQ1oZN",
      "include_colab_link": true
    },
    "kernelspec": {
      "name": "python3",
      "display_name": "Python 3"
    },
    "language_info": {
      "name": "python"
    }
  },
  "cells": [
    {
      "cell_type": "markdown",
      "metadata": {
        "id": "view-in-github",
        "colab_type": "text"
      },
      "source": [
        "<a href=\"https://colab.research.google.com/github/stevenchristm/tugaslabsc/blob/main/modulsc2.ipynb\" target=\"_parent\"><img src=\"https://colab.research.google.com/assets/colab-badge.svg\" alt=\"Open In Colab\"/></a>"
      ]
    },
    {
      "cell_type": "code",
      "source": [
        "import numpy as np\n",
        "import matplotlib.pyplot as plt\n",
        "from scipy import optimize\n",
        "\n",
        "def gauss_seidel(A, b, x_init, tol=0.001, max_iter=50):\n",
        "    n = len(A)\n",
        "    x = np.array(x_init, dtype=float)\n",
        "    for k in range(max_iter):\n",
        "        x_new = np.copy(x)\n",
        "        for i in range(n):\n",
        "            sum1 = sum(A[i][j] * x_new[j] for j in range(n) if j != i)\n",
        "            x_new[i] = (b[i] - sum1) / A[i][i]\n",
        "        if np.linalg.norm(x_new - x, ord=np.inf) < tol:\n",
        "            return x_new, k+1\n",
        "        x = x_new\n",
        "    return x, max_iter"
      ],
      "metadata": {
        "id": "NoGT4FUGN6PZ"
      },
      "execution_count": 25,
      "outputs": []
    },
    {
      "cell_type": "code",
      "source": [
        "# Soal 1\n",
        "A1 = np.array([[2, 3, -1], [1, -1, 2], [3, 2, 1]])\n",
        "b1 = np.array([10, 4, 14])\n",
        "x_init1 = [5, 5, 5]\n",
        "\n",
        "x_gs1, iter1 = gauss_seidel(A1, b1, x_init1)\n",
        "x_np1 = np.linalg.solve(A1, b1)\n",
        "print(f\"Hasil Gauss-Seidel untuk soal 1: {x_gs1} dalam {iter1} iterasi\")\n",
        "print(f\"Hasil NumPy untuk soal 1: {x_np1}\")"
      ],
      "metadata": {
        "colab": {
          "base_uri": "https://localhost:8080/"
        },
        "id": "a157mkELO4Ps",
        "outputId": "156f07c4-a4a3-43e2-cfb8-b249db4f7ccc"
      },
      "execution_count": 26,
      "outputs": [
        {
          "output_type": "stream",
          "name": "stdout",
          "text": [
            "Hasil Gauss-Seidel untuk soal 1: [-1.71792507e+46 -5.15377521e+46  1.54613256e+47] dalam 50 iterasi\n",
            "Hasil NumPy untuk soal 1: [0.65 4.15 3.75]\n"
          ]
        }
      ]
    },
    {
      "cell_type": "code",
      "source": [
        "# Soal 2\n",
        "A2 = np.array([[3, -0.1, -0.2], [0.1, 7, -0.3], [0.3, -0.2, 10]])\n",
        "b2 = np.array([7.85, -19.3, 71.4])\n",
        "x_init2 = [1, 2, 3]\n",
        "\n",
        "x_gs2, iter2 = gauss_seidel(A2, b2, x_init2)\n",
        "x_np2 = np.linalg.solve(A2, b2)\n",
        "print(f\"Hasil Gauss-Seidel untuk soal 2: {x_gs2} dalam {iter2} iterasi\")\n",
        "print(f\"Hasil NumPy untuk soal 2: {x_np2}\")"
      ],
      "metadata": {
        "colab": {
          "base_uri": "https://localhost:8080/"
        },
        "id": "BHKG_HZmrQtb",
        "outputId": "95471788-f1ee-4971-bd41-c728354db7dd"
      },
      "execution_count": 27,
      "outputs": [
        {
          "output_type": "stream",
          "name": "stdout",
          "text": [
            "Hasil Gauss-Seidel untuk soal 2: [ 3.00000022 -2.50000002  6.99999999] dalam 4 iterasi\n",
            "Hasil NumPy untuk soal 2: [ 3.  -2.5  7. ]\n"
          ]
        }
      ]
    },
    {
      "cell_type": "code",
      "source": [
        "# Soal 3\n",
        "X = np.array([5, 4, 6, 7, 5])\n",
        "Y = np.array([10, 8, 12, 14, 10])"
      ],
      "metadata": {
        "id": "6IeilI7Rulwm"
      },
      "execution_count": 28,
      "outputs": []
    },
    {
      "cell_type": "code",
      "source": [
        "# Least Square Method\n",
        "A = np.vstack([X, np.ones(len(X))]).T\n",
        "params, _, _, _ = np.linalg.lstsq(A, Y, rcond=None)\n",
        "a, b = params\n",
        "print(f\"Nilai a: {a}, Nilai b: {b}\")\n",
        "\n",
        "# Plot regresi\n",
        "plt.scatter(X, Y, color='blue', label='Data')\n",
        "plt.plot(X, a * X + b, color='red', label=f'Regresi: y={a:.2f}x+{b:.2f}')\n",
        "plt.xlabel(\"X\")\n",
        "plt.ylabel(\"Y\")\n",
        "plt.legend()\n",
        "plt.title(\"Regresi Linear Least Squares\")\n",
        "plt.show()"
      ],
      "metadata": {
        "colab": {
          "base_uri": "https://localhost:8080/",
          "height": 489
        },
        "id": "p8hY4H94uqFh",
        "outputId": "799ebe30-3bc7-4a76-c575-b6becddd7c92"
      },
      "execution_count": 29,
      "outputs": [
        {
          "output_type": "stream",
          "name": "stdout",
          "text": [
            "Nilai a: 1.9999999999999993, Nilai b: 2.8656992807871078e-15\n"
          ]
        },
        {
          "output_type": "display_data",
          "data": {
            "text/plain": [
              "<Figure size 640x480 with 1 Axes>"
            ],
            "image/png": "[encoded data removed]"
          },
          "metadata": {}
        }
      ]
    }
  ]
}