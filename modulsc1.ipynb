{
  "nbformat": 4,
  "nbformat_minor": 0,
  "metadata": {
    "colab": {
      "provenance": [],
      "authorship_tag": "ABX9TyN49hUY1RdbnXFYtHbQHHQ2",
      "include_colab_link": true
    },
    "kernelspec": {
      "name": "python3",
      "display_name": "Python 3"
    },
    "language_info": {
      "name": "python"
    }
  },
  "cells": [
    {
      "cell_type": "markdown",
      "metadata": {
        "id": "view-in-github",
        "colab_type": "text"
      },
      "source": [
        "<a href=\"https://colab.research.google.com/github/stevenchristm/tugaslabsc/blob/main/modulsc1.ipynb\" target=\"_parent\"><img src=\"https://colab.research.google.com/assets/colab-badge.svg\" alt=\"Open In Colab\"/></a>"
      ]
    },
    {
      "cell_type": "code",
      "execution_count": 57,
      "metadata": {
        "id": "poMU-gtXSjji",
        "colab": {
          "base_uri": "https://localhost:8080/"
        },
        "outputId": "9d927fcc-4a97-4276-a1a3-41884fd505a0"
      },
      "outputs": [
        {
          "output_type": "stream",
          "name": "stdout",
          "text": [
            "Masukkan username anda: Steven\n",
            "Masukkan password anda: bn123\n",
            "Incorrect Password\n",
            "Masukkan username anda: Steven\n",
            "Masukkan password anda: Bn123\n",
            "Login Berhasil, Selamat datang Steven\n",
            "Masukkan nama siswa : Bibi\n",
            "Masukkan Nilai UAS : 77\n",
            "Masukkan Nilai UTS : 65\n",
            "Masukkan Nilai Assignment : 100\n",
            "============================================\n",
            "Hasil perolehan nilai Bibi\n",
            "Final Score: 78.0\n",
            "Grade B\n"
          ]
        }
      ],
      "source": [
        "def login():\n",
        "  while True:\n",
        "    username = input(\"Masukkan username anda: \")\n",
        "    password = input(\"Masukkan password anda: \")\n",
        "\n",
        "    if password == \"Bn123\":\n",
        "      print(f\"Login Berhasil, Selamat datang {username}\")\n",
        "      break\n",
        "    else:\n",
        "      print(\"Incorrect Password\")\n",
        "\n",
        "def calculate(uas, uts, asg):\n",
        "  return(0.5 * uas) + (0.3 * uts) + (0.2 * asg)\n",
        "\n",
        "def grade(score):\n",
        "  if score >= 90 and score <= 100:\n",
        "    return \"A\"\n",
        "  elif score >= 85 and score < 90:\n",
        "    return \"A-\"\n",
        "  elif score >= 80 and score < 85:\n",
        "    return \"B+\"\n",
        "  elif score >= 75 and score < 80:\n",
        "    return \"B\"\n",
        "  elif score >= 70 and score < 75:\n",
        "    return \"B-\"\n",
        "  elif score >= 65 and score < 70:\n",
        "    return \"C\"\n",
        "  elif score >= 50 and score < 65:\n",
        "    return \"D\"\n",
        "  elif score >= 0 and score < 50:\n",
        "    return \"E\"\n",
        "  else:\n",
        "    return \"F\"\n",
        "\n",
        "def main():\n",
        "  login()\n",
        "\n",
        "  nama = input(\"Masukkan nama siswa : \")\n",
        "  uas = float(input(\"Masukkan Nilai UAS : \"))\n",
        "  uts = float(input(\"Masukkan Nilai UTS : \"))\n",
        "  asg = float(input(\"Masukkan Nilai Assignment : \"))\n",
        "\n",
        "  final_score = calculate(uas, uts, asg)\n",
        "  final_grade = grade(final_score)\n",
        "\n",
        "  print(\"============================================\")\n",
        "  print(f\"Hasil perolehan nilai {nama}\")\n",
        "  print(f\"Final Score: {final_score:.1f}\")\n",
        "  print(f\"Grade {final_grade}\")\n",
        "\n",
        "main()"
      ]
    }
  ]
}